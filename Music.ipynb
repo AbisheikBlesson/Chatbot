{
  "nbformat": 4,
  "nbformat_minor": 0,
  "metadata": {
    "colab": {
      "provenance": [],
      "authorship_tag": "ABX9TyO9gvEKgb16kZ6FaX2EwzCf",
      "include_colab_link": true
    },
    "kernelspec": {
      "name": "python3",
      "display_name": "Python 3"
    },
    "language_info": {
      "name": "python"
    }
  },
  "cells": [
    {
      "cell_type": "markdown",
      "metadata": {
        "id": "view-in-github",
        "colab_type": "text"
      },
      "source": [
        "<a href=\"https://colab.research.google.com/github/AbisheikBlesson/Chatbot/blob/main/Music.ipynb\" target=\"_parent\"><img src=\"https://colab.research.google.com/assets/colab-badge.svg\" alt=\"Open In Colab\"/></a>"
      ]
    },
    {
      "cell_type": "code",
      "execution_count": 1,
      "metadata": {
        "colab": {
          "base_uri": "https://localhost:8080/",
          "height": 491
        },
        "id": "6KE8M8YVBSl3",
        "outputId": "81a0b334-f81d-4d3d-dfa3-93b1b0bca622"
      },
      "outputs": [
        {
          "output_type": "stream",
          "name": "stdout",
          "text": [
            "{0.0} <music21.stream.Part 0x7ec4e356dc00>\n",
            "    {0.0} <music21.stream.Stream 0x7ec5101bee30>\n",
            "        {0.0} <music21.note.Note E>\n",
            "        {0.5} <music21.note.Note E>\n",
            "        {1.0} <music21.note.Note C>\n",
            "        {1.5} <music21.note.Note G>\n",
            "        {2.0} <music21.note.Note D>\n",
            "        {3.0} <music21.note.Note A>\n",
            "        {3.5} <music21.note.Note B>\n",
            "        {3.75} <music21.note.Note F>\n",
            "        {4.25} <music21.note.Note G>\n",
            "        {5.25} <music21.note.Note C>\n",
            "        {5.5} <music21.note.Note C>\n",
            "        {6.0} <music21.note.Note G>\n",
            "        {6.5} <music21.note.Note A>\n",
            "        {7.5} <music21.note.Note F>\n",
            "        {8.5} <music21.note.Note F>\n",
            "        {9.5} <music21.note.Note G>\n",
            "    {0.0} <music21.tempo.MetronomeMark animato Quarter=120>\n",
            "    {0.0} <music21.meter.TimeSignature 4/4>\n"
          ]
        },
        {
          "output_type": "display_data",
          "data": {
            "text/plain": [
              "<IPython.core.display.HTML object>"
            ],
            "text/html": [
              "\n",
              "        <div id=\"midiPlayerDiv131\"></div>\n",
              "        <link rel=\"stylesheet\" href=\"https://cuthbertLab.github.io/music21j/css/m21.css\">\n",
              "        \n",
              "        <script\n",
              "        src=\"https://cdnjs.cloudflare.com/ajax/libs/require.js/2.3.6/require.min.js\"\n",
              "        ></script>\n",
              "    \n",
              "        <script>\n",
              "        function midiPlayerDiv131_play() {\n",
              "            const rq = require.config({\n",
              "                paths: {\n",
              "                    'music21': 'https://cuthbertLab.github.io/music21j/releases/music21.debug',\n",
              "                }\n",
              "            });\n",
              "            rq(['music21'], function(music21) {\n",
              "                mp = new music21.miditools.MidiPlayer();\n",
              "                mp.addPlayer(\"#midiPlayerDiv131\");\n",
              "                mp.base64Load(\"data:audio/midi;base64,TVRoZAAAAAYAAQACJ2BNVHJrAAAAFAD/UQMHoSAA/1gEBAIYCM5g/y8ATVRyawAAAJ4A/wMAAOAAQM5gkEBapzCAQAAAkEBapzCAQAAAkDxapzCAPAAAkENapzCAQwAAkD5azmCAPgAAkEVapzCARQAAkEdak1iARwAAkEFapzCAQQAAkENazmCAQwAAkDxak1iAPAAAkDxapzCAPAAAkENapzCAQwAAkEVazmCARQAAkEFazmCAQQAAkEFazmCAQQAAkENazmCAQwDOYP8vAA==\");\n",
              "            });\n",
              "        }\n",
              "        if (typeof require === 'undefined') {\n",
              "            setTimeout(midiPlayerDiv131_play, 2000);\n",
              "        } else {\n",
              "            midiPlayerDiv131_play();\n",
              "        }\n",
              "        </script>"
            ]
          },
          "metadata": {}
        }
      ],
      "source": [
        "from music21 import stream, note, meter, tempo\n",
        "import random\n",
        "\n",
        "# Function to generate a random melody\n",
        "def generate_random_melody(num_notes=16):\n",
        "    melody = stream.Stream()\n",
        "\n",
        "    # Define note choices (C4 to B4)\n",
        "    pitches = ['C4', 'D4', 'E4', 'F4', 'G4', 'A4', 'B4']\n",
        "\n",
        "    for _ in range(num_notes):\n",
        "        pitch = random.choice(pitches)  # Randomly select a pitch\n",
        "        dur = random.choice([1.0, 0.5, 0.25])  # Randomly select a duration\n",
        "        melody.append(note.Note(pitch, quarterLength=dur))\n",
        "\n",
        "    return melody\n",
        "\n",
        "# Function to create a simple score with tempo and meter\n",
        "def create_score(melody):\n",
        "    score = stream.Score()\n",
        "    part = stream.Part()\n",
        "\n",
        "    # Add a time signature and tempo\n",
        "    part.append(meter.TimeSignature('4/4'))\n",
        "    part.append(tempo.MetronomeMark(number=120))\n",
        "\n",
        "    # Add melody notes to part\n",
        "    part.append(melody)\n",
        "\n",
        "    # Add part to score\n",
        "    score.append(part)\n",
        "\n",
        "    return score\n",
        "\n",
        "# Main program\n",
        "if __name__ == \"__main__\":\n",
        "    random_melody = generate_random_melody()\n",
        "    score = create_score(random_melody)\n",
        "\n",
        "    # Show the score\n",
        "    score.show('text')  # Displays in text format\n",
        "    score.show('midi')  # Play the generated melody as MIDI\n",
        ""
      ]
    },
    {
      "cell_type": "code",
      "source": [],
      "metadata": {
        "id": "yNYiHCWeBkbA"
      },
      "execution_count": null,
      "outputs": []
    }
  ]
}