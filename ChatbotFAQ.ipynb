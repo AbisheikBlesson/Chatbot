{
  "nbformat": 4,
  "nbformat_minor": 0,
  "metadata": {
    "colab": {
      "provenance": [],
      "authorship_tag": "ABX9TyP2zWk1ISA/+m3O6HtZ1cnH",
      "include_colab_link": true
    },
    "kernelspec": {
      "name": "python3",
      "display_name": "Python 3"
    },
    "language_info": {
      "name": "python"
    }
  },
  "cells": [
    {
      "cell_type": "markdown",
      "metadata": {
        "id": "view-in-github",
        "colab_type": "text"
      },
      "source": [
        "<a href=\"https://colab.research.google.com/github/AbisheikBlesson/Chatbot/blob/main/ChatbotFAQ.ipynb\" target=\"_parent\"><img src=\"https://colab.research.google.com/assets/colab-badge.svg\" alt=\"Open In Colab\"/></a>"
      ]
    },
    {
      "cell_type": "code",
      "execution_count": null,
      "metadata": {
        "colab": {
          "base_uri": "https://localhost:8080/"
        },
        "id": "v5mB1Q2X_jOB",
        "outputId": "66a35e5a-41b2-4716-c9c8-aae6f2b20a5b"
      },
      "outputs": [
        {
          "output_type": "stream",
          "name": "stderr",
          "text": [
            "[nltk_data] Downloading package punkt to /root/nltk_data...\n",
            "[nltk_data]   Unzipping tokenizers/punkt.zip.\n"
          ]
        },
        {
          "output_type": "stream",
          "name": "stdout",
          "text": [
            "Welcome to the FAQ Chatbot! Type 'quit' to exit.\n"
          ]
        }
      ],
      "source": [
        "import nltk\n",
        "from nltk.chat.util import Chat, reflections\n",
        "\n",
        "nltk.download('punkt')\n",
        "# Define the conversation pairs (FAQ and responses)\n",
        "faq_pairs = [\n",
        "    [r\"what is your return policy?\",\n",
        "     [\"We have a 30-day return policy. You can return any item within 30 days of purchase.\"]],\n",
        "\n",
        "    [r\"how do I track my order?\",\n",
        "     [\"You can track your order by visiting the 'Track Order' section on our website and entering your order ID.\"]],\n",
        "\n",
        "    [r\"what payment methods do you accept?\",\n",
        "     [\"We accept Visa, MasterCard, PayPal, and several other payment options.\"]],\n",
        "\n",
        "    [r\"what is your support email?\",\n",
        "     [\"You can reach us at support@ourcompany.com.\"]],\n",
        "\n",
        "    [r\"how do I contact customer support?\",\n",
        "     [\"You can contact customer support via our support email or by calling our toll-free number at 1-800-555-5555.\"]],\n",
        "\n",
        "    [r\"quit\",\n",
        "     [\"Goodbye! Have a nice day.\"]]\n",
        "]\n",
        "# Create the chatbot instance\n",
        "chatbot = Chat(faq_pairs, reflections)\n",
        "\n",
        "# Start the chatbot conversation\n",
        "print(\"Welcome to the FAQ Chatbot! Type 'quit' to exit.\")\n",
        "chatbot.converse()"
      ]
    }
  ]
}